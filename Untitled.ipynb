{
 "cells": [
  {
   "cell_type": "markdown",
   "metadata": {},
   "source": [
    "# Mineria de datos\n",
    "## Deber N°2\n",
    "\n",
    "### Pregunta1.-\n",
    "* Asuma que tenemos $N$ puntos $x_i \\in \\mathbb{R}p$, pertenecientes a las clases $y_i \\in \\{1, -1\\}$. Demuestre que el algoritmo del perceptron converge a un hiperplano de separación en un núumero finito de pasos.  \n",
    "    1. Denote un hiperplano como $f(x) = \\beta_1 x+\\beta_0 = 0$ o con una notación más compacta $\\beta^T x^{*} = 0$, donde $x^{*} = (x; 1)$ y $\\beta = (\\beta_1; \\beta_0)$. Sea $z_i = \\frac{x_i^{*}}{||x_i^{*}||}$ . Demuestre que la separabilidad de los datos implica que $y_i \\beta_{sep}^T z_i \\geq 1; \\forall i.$  \n",
    "      \n",
    "    **Demostración**  \n",
    "    Dado que los datos son separables tenemos que:  \n",
    "    $$\\beta^T x_i^{*}>0; \\forall{i} \\text{ tal que } y_i=1 $$\n",
    "    $$\\beta^T x_i^{*}<0; \\forall{i} \\text{ tal que } y_i=-1 $$\n",
    "    Por lo tanto  \n",
    "    $$y_i \\beta^T x_i^{*}>0; \\forall{i}$$\n",
    "    Luego dado que $||x^{*}||>0$  \n",
    "    $$y_i \\beta^T\\frac{ x_i^{*}}{||x^{*}||}>0; \\forall{i}$$\n",
    "    que es lo mismo que  \n",
    "    $$y_i \\beta^T z_i>0; \\forall{i}$$\n",
    "    Tomemos $M = min_i\\{y_i \\beta^T z_i>0\\}$, entonces:  \n",
    "    $$y_i \\beta^T z_i\\geq M; \\forall{i}$$  \n",
    "    Si dividimos la ecuación anterior para M tenemos\n",
    "    $$y_i \\frac{\\beta^T}{M} z_i\\geq 1; \\forall{i}$$  \n",
    "    Si tomamaos $\\beta_{sep}=\\frac{\\beta}{M}$ obtenemos:\n",
    "    $$y_i \\beta_{sep}^T z_i\\geq 1; \\forall{i}$$  \n",
    "    como se quería demostrar.  \n",
    "      \n",
    "    2. Dada una iteración $\\beta_{old}$, el algoritmo del perceptrón identifica un punto $z_i$ que está mal clasificado y produce la actualización $\\beta_{new} \\leftarrow \\beta_{old} + y_i z_i$. Muestre que $||\\beta_{new} - \\beta_{sep}||^2 \\leq ||\\beta_{old} - \\beta_{sep}||^2 - 1$, y por tanto el algoritmo converge a un hiperplano de separación en no más de $||\\beta_{start} - \\beta_{sep}||^2$ iteraciones.  \n",
    "      \n",
    "      **Demostración**  \n",
    "      $\\begin{align*}\n",
    "          \\| \\beta_{new} - \\beta_{sep} \\|^2 &= \\| \\beta_{old} + y_i z_i -\\beta_{sep}\\|^2\\\\\n",
    "              &= \\| \\beta_{old}-\\beta_{sep}\\| ^2 + y_i \\| z_i \\|^2 + 2[ y_i (\\beta_{old}^T - \\beta_{sep})^T z_i] \\hspace{10mm} \\text{ por la desigualdad triangular}\\\\\n",
    "              &\\leq \\| \\beta_{old}-\\beta_{sep} \\|^2 + 1 + 2[y_i \\beta_{old}^T z_i - y_i \\beta_{sep}^T z_i] \\hspace{10mm} \\text{Dado que $y_i= \\pm 1$ y $\\|z\\|==1$}\n",
    "\\end{align*}$  \n",
    "Dado que el punto $y_i z_i$ estaba mal clasificado por el vector $\\beta_{old}$ tenemos que $y_i \\beta_{old}^T z_i < 0$, además que el vector $\\beta_{sep}$ clasifica bien los puntos, tenemos que $y_i \\beta_{sep}^T z_i\\geq 1$, por lo tanto:\n",
    "$$2[y_i \\beta_{old}^T z_i - y_i \\beta_{sep}^T z_i] \\leq 2(0-1)=-1$$\n",
    "Por lo tanto tenemos que:\n",
    "$$\\| \\beta_{new} - \\beta_{sep} \\|^2 \\leq \\| \\beta_{old}-\\beta_{sep} \\|^2 +1-2 = \\| \\beta_{old}-\\beta_{sep} \\|^2 -1t$$\n",
    "Con esto podemos comcluir que para cualquier vector inicial $\\beta_{start}$ llega a $\\beta_{sep}$ en al menos $\\| \\beta_{start} - \\beta_{sep}\\| ^2$  iteraciones.\n",
    "       "
   ]
  },
  {
   "cell_type": "markdown",
   "metadata": {},
   "source": [
    "### Pregunta 2.-  \n",
    "* Considere el siguiente criterio de separación\n",
    "$$ D^* (\\beta,\\beta_0)=-\\sum_{i=1}^N y_i(x_i^T\\beta+\\beta_0) $$\n",
    "que es una versión generalizada del criterio del perceptron donde se suma sobre todas las observaciones. Considere minimizar $D^*$ sujeto a $\\ |\\beta = 1$. Explique este criterio en sus palabras. ¿Este criterio resuelve el problema de encontrar el hiperplano de separación óptima?  \n",
    "  \n",
    "**Solución**\n",
    "  \n",
    "El criterio pretende  encontrar un hiperplano de separación donde la suma de las distancias de los puntos clasificados correctamente al hiperplano menos la suma de las distancias de todos los puntos mal clasifcados sea maximizada. A pesar de la definición de distancia, no resuelve el problema de hallar un óptimo hiperplano de separación."
   ]
  },
  {
   "cell_type": "markdown",
   "metadata": {},
   "source": [
    "### Pregunta 3  \n",
    "* Derive las ecuaciones debackpropagationpara el caso de una función de energíade entropía cruzada.  \n",
    "  \n",
    "**Solución**  \n",
    "  \n",
    "Con la función de costo como la función de energía de entropía cruzada y la función *logit* como la distribución de probabilidad, se puede escribir el problema de minimización como sigue:  \n",
    "$$\n",
    "R(\\theta)=\\sum_{i=1}^N R_i(\\theta)=\\sum_{i=1}^N\\sum_{k=1}^K y_{ik}\\log{\\frac{1}{f_k(x_i)}}\n",
    "$$\n",
    "donde\n",
    "\\begin{equation*}\n",
    "\\begin{aligned}\n",
    "f_k(x_i)&=\\frac{\\exp{(g_k(\\beta_k^T z_i)})}{\\sum_{l=1}^K\\exp{(g_l(\\beta_l^T z_i))}} \\hspace{0.5cm} \\text{y}\\\\\n",
    "R_i(\\theta)&=\\sum_{k=1}^K y_{ik}\\log\\left( \\sum_{l=1}^K \\exp(g_l(\\beta_l^T z_i)-g_k(\\beta_k^T z_i))\\right).\n",
    "\\end{aligned}\n",
    "\\end{equation*}\n",
    "La derivada parcial con respecto a $\\beta_{qm}$ es:\n",
    "\\begin{equation*}\n",
    "\\begin{aligned}\n",
    "\\frac{\\partial R_i(\\theta)}{\\partial\\beta_{qm}}&=\\sum_{k=1}^K y_{ik}\\frac{\\frac{\\partial}{\\partial\\beta_{qm}}\\left[ \\sum_{l=1}^K \\exp\\left( g_l(\\beta_l^T z_i)-g_k(\\beta_k^T z_i)\\right)\\right]}{\\sum_{l=1}^K \\exp\\left(g_l(\\beta_l^T z_i)-g_k(\\beta_k^T z_i)\\right)}\\\\\n",
    "&=\\frac{\\left( \\sum_{k=1,k\\neq q}^K y_{ik}-y_{iq}\\right) \\exp\\left( g'_q(\\beta^T_q z_i)\\right)z_{mi}}{\\sum_{l=1}^K \\exp\\left(g_l(\\beta_l^T z_i)-g_k(\\beta_k^T z_i)\\right)}\\\\\n",
    "&=\\delta_{qi}z_{mi}\n",
    "\\end{aligned}\n",
    "\\end{equation*}\n",
    "donde\n",
    "\\[\n",
    "\\delta_{qi}=\\frac{\\partial R_i(\\theta)}{\\delta \\beta_{qm}z_{mi}}.\n",
    "\\]\n",
    "Ahora se puede expresar la derivada parcial de $R_i(\\theta)$ con respecto a $\\alpha{mp}$, gracias a la regla de la cadena encontrando la ecuaci\\'on de \\textit{back propagation}, como:\n",
    "\\begin{equation*}\n",
    "\\begin{aligned}\n",
    "\\frac{\\partial R_i(\\theta)}{\\partial \\alpha_{mp}}&=\\sum_{k=1}^K\\frac{\\partial R_i(\\theta)}{\\partial\\beta_{km}z_{mi}}\\frac{\\partial\\beta_{km}z_{mi}}{\\delta z_{mi}} \\frac{\\partial z_{mi}}{\\partial\\alpha_{mp}}\\\\\n",
    "&=\\left( \\sum_{k=1}^K \\delta_{qi}\\beta_{km}\\right)\\sigma'(\\alpha_m^Tx)x_{pi}\\\\\n",
    "&=\\frac{\\partial R_i(\\theta)}{\\partial \\alpha_{mp}x_{pi}}x_{pi}\n",
    "\\end{aligned}\n",
    "\\end{equation*}\n",
    "  "
   ]
  },
  {
   "cell_type": "markdown",
   "metadata": {},
   "source": [
    "### Pregunta 4\n",
    "* Demuestre que las siguientes formulaciones de SVM para datos no separables son equivalentes.\n",
    "\\begin{equation*}\n",
    "\\begin{aligned}\n",
    "\\min_{\\beta,\\beta_0} &\\frac{1}{2}\\| \\beta \\|^2+C\\sum_{i=1}^N \\xi \\\\\n",
    "&s.a.\\\\\n",
    "&\\xi_i\\geq 0 \\\\\n",
    "&y_i(x_i^T \\beta+\\beta_0)\\geq 1-\\xi_i \\hspace{1cm} \\forall i\n",
    "\\end{aligned}\n",
    "\\end{equation*}\n",
    "y\n",
    "$$\n",
    "\\min_{\\beta,\\beta_0} \\sum_{i=1}^N\\left[ 1-y_if(x_i)\\right]_+ +\\frac{\\lambda}{2} \\| \\beta \\|^2\n",
    "$$\n",
    "donde el subscript $+$ indica la parte positiva.  \n",
    "  \n",
    "**Solución**  \n",
    "  \n",
    "De la restricción del problema original del SVM, se tiene lo siguiente:\n",
    "\\begin{equation*}\n",
    "\\begin{aligned}\n",
    "\\xi_i&\\geq 1-y_i(x_i^T \\beta+\\beta_0) \\\\\n",
    "\\xi_i&\\geq 0\n",
    "\\end{aligned}\n",
    "\\end{equation*}\n",
    "juntando ambas restricciones, se sigue que:\n",
    "$$\n",
    "\\xi_i\\geq \\left[1-y_i(x_i^T \\beta+\\beta_0)\\right]_+\n",
    "$$\n",
    "De este modo, el problema se transforma, tomando $\\lambda=1/C$ y $f(x_i)=x_i^T\\beta+\\beta_0$, en:\n",
    "\\begin{equation*}\n",
    "\\begin{aligned}\n",
    "&\\min_{\\beta,\\beta_0} \\frac{1}{2}\\| \\beta \\|^2+C\\sum_{i=1}^N \\xi \\\\\n",
    "= &\\min_{\\beta,\\beta_0} \\frac{1}{2}\\| \\beta \\|^2+C\\sum_{i=1}^N \\left[1-y_i(x_i^T \\beta+\\beta_0)\\right]_+ \\\\\n",
    "= &\\min_{\\beta,\\beta_0} \\frac{1}{2C}\\| \\beta \\|^2+\\sum_{i=1}^N \\left[1-y_i f(x_i)\\right]_+ \\\\\n",
    "= &\\min_{\\beta,\\beta_0} \\frac{\\lambda}{2}\\| \\beta\\|^2+\\sum_{i=1}^N \\left[1-y_i f(x_i)\\right]_+\n",
    "\\end{aligned}\n",
    "\\end{equation*}\n",
    "Así, se llega al resultado deseado.\n",
    "\n"
   ]
  },
  {
   "cell_type": "markdown",
   "metadata": {},
   "source": [
    "### Pregunta 5\n",
    "* Considere un modelo de red neuronal para una salida cuantitativa\n",
    "\\begin{equation*}\n",
    "\\begin{aligned}\n",
    "Z_m &=\\sigma(\\alpha_{0,m}+\\alpha_m^T X) \\hspace{0.5cm} m=1,\\ldots, M\\\\\n",
    "T_k &=\\beta_{0,k}+\\beta_k^TZ \\hspace{0.5cm} k=1,\\ldots, K \\\\\n",
    "f_k &=g_k(T) \\hspace{0.5cm} k=1,\\ldots, K\n",
    "\\end{aligned}\n",
    "\\end{equation*}\n",
    "con $Z = (Z_1,Z_2,\\ldots,Z_M)$, y $T = (T_1, T_2,\\ldots, T_K)$.  \n",
    "Usando la suma de cuadrado de residuos (RSS) como funci\\'on de costo y la identidad como función de activación de los nodos de salida $(g_k(t) = t)$. Suponga que los pesos de la entrada $\\alpha_m$ son muy cercanos a cero. Demuestre que el modelo resultante es aproximadamente lineal en las entradas."
   ]
  },
  {
   "cell_type": "markdown",
   "metadata": {},
   "source": [
    "### Pregunta 6\n",
    "* Implemente el algoritmo de perceptron y de red neuronal para clasificar el dataset [IRIS](https://archive.ics.uci.edu/ml/datasets/Iris/ \"Iris Data Set\"). NOTA: Este dataset contiene solamente una clase que es linealmente separable con respecto a las otras, en el caso de conjuntos no separables utilice el n\\'umero de iteraciones como criterio de parada (e.d. 1000)\n"
   ]
  },
  {
   "cell_type": "code",
   "execution_count": 14,
   "metadata": {},
   "outputs": [],
   "source": [
    "library(ggplot2)\n",
    "library(dplyr)\n",
    "perceptron <- function(X,Y,w_init,tol=1e-05,n_iter=1000){\n",
    "    options(warn=-1)\n",
    "    w <- w_init\n",
    "    wnew<-w_init\n",
    "    error <- NULL\n",
    "    tolerancia<-1e8\n",
    "    iteracion<-1\n",
    "    while(tolerancia>tol & iteracion<=n_iter){    # in practice, use some stopping criterion!\n",
    "        z<-as.numeric(dim(X)[1])\n",
    "        for(ii in 1:z){    # cycle through training set\n",
    "            s<-sign(w%*%X[ii,])\n",
    "            if (s != Y[ii]){    # wrong decision?\n",
    "                w <- w + X[ii,]*Y[ii]   # then add (or subtract) this point to w\n",
    "            }\n",
    "        }\n",
    "        tolerancia <- sqrt((wnew-w)^2)\n",
    "        wnew<-w\n",
    "        iteracion<-iteracion+1\n",
    "        error<-c(error,sum(sign(w%*%t(X)) != Y )/(dim(X)[2])) \n",
    "    }\n",
    "    result<-list(beta=w,Error=error,Iteraciones=iteracion-1)\n",
    "    options(warn=0)\n",
    "    return(result)\n",
    "}"
   ]
  },
  {
   "cell_type": "code",
   "execution_count": 12,
   "metadata": {},
   "outputs": [
    {
     "data": {
      "text/html": [
       "<table>\n",
       "<thead><tr><th scope=col>Sepal.Length</th><th scope=col>Sepal.Width</th><th scope=col>Petal.Length</th><th scope=col>Petal.Width</th><th scope=col>Species</th></tr></thead>\n",
       "<tbody>\n",
       "\t<tr><td>5.1   </td><td>3.5   </td><td>1.4   </td><td>0.2   </td><td>setosa</td></tr>\n",
       "\t<tr><td>4.9   </td><td>3.0   </td><td>1.4   </td><td>0.2   </td><td>setosa</td></tr>\n",
       "\t<tr><td>4.7   </td><td>3.2   </td><td>1.3   </td><td>0.2   </td><td>setosa</td></tr>\n",
       "\t<tr><td>4.6   </td><td>3.1   </td><td>1.5   </td><td>0.2   </td><td>setosa</td></tr>\n",
       "\t<tr><td>5.0   </td><td>3.6   </td><td>1.4   </td><td>0.2   </td><td>setosa</td></tr>\n",
       "\t<tr><td>5.4   </td><td>3.9   </td><td>1.7   </td><td>0.4   </td><td>setosa</td></tr>\n",
       "</tbody>\n",
       "</table>\n"
      ],
      "text/latex": [
       "\\begin{tabular}{r|lllll}\n",
       " Sepal.Length & Sepal.Width & Petal.Length & Petal.Width & Species\\\\\n",
       "\\hline\n",
       "\t 5.1    & 3.5    & 1.4    & 0.2    & setosa\\\\\n",
       "\t 4.9    & 3.0    & 1.4    & 0.2    & setosa\\\\\n",
       "\t 4.7    & 3.2    & 1.3    & 0.2    & setosa\\\\\n",
       "\t 4.6    & 3.1    & 1.5    & 0.2    & setosa\\\\\n",
       "\t 5.0    & 3.6    & 1.4    & 0.2    & setosa\\\\\n",
       "\t 5.4    & 3.9    & 1.7    & 0.4    & setosa\\\\\n",
       "\\end{tabular}\n"
      ],
      "text/markdown": [
       "\n",
       "Sepal.Length | Sepal.Width | Petal.Length | Petal.Width | Species | \n",
       "|---|---|---|---|---|---|\n",
       "| 5.1    | 3.5    | 1.4    | 0.2    | setosa | \n",
       "| 4.9    | 3.0    | 1.4    | 0.2    | setosa | \n",
       "| 4.7    | 3.2    | 1.3    | 0.2    | setosa | \n",
       "| 4.6    | 3.1    | 1.5    | 0.2    | setosa | \n",
       "| 5.0    | 3.6    | 1.4    | 0.2    | setosa | \n",
       "| 5.4    | 3.9    | 1.7    | 0.4    | setosa | \n",
       "\n",
       "\n"
      ],
      "text/plain": [
       "  Sepal.Length Sepal.Width Petal.Length Petal.Width Species\n",
       "1 5.1          3.5         1.4          0.2         setosa \n",
       "2 4.9          3.0         1.4          0.2         setosa \n",
       "3 4.7          3.2         1.3          0.2         setosa \n",
       "4 4.6          3.1         1.5          0.2         setosa \n",
       "5 5.0          3.6         1.4          0.2         setosa \n",
       "6 5.4          3.9         1.7          0.4         setosa "
      ]
     },
     "metadata": {},
     "output_type": "display_data"
    },
    {
     "data": {},
     "metadata": {},
     "output_type": "display_data"
    },
    {
     "ename": "ERROR",
     "evalue": "Error in png(tf, width, height, \"in\", pointsize, bg, res, antialias = antialias): unable to start png() device\n",
     "output_type": "error",
     "traceback": [
      "Error in png(tf, width, height, \"in\", pointsize, bg, res, antialias = antialias): unable to start png() device\nTraceback:\n"
     ]
    },
    {
     "data": {
      "text/plain": [
       "plot without title"
      ]
     },
     "metadata": {},
     "output_type": "display_data"
    }
   ],
   "source": [
    "data(iris)\n",
    "head(iris)\n",
    "\n",
    "ggplot(data=iris,aes(Sepal.Length,Petal.Length,color=Species))+\n",
    "    geom_point()"
   ]
  },
  {
   "cell_type": "markdown",
   "metadata": {},
   "source": [
    "Vamos a predecir la categoria setosa"
   ]
  },
  {
   "cell_type": "code",
   "execution_count": 18,
   "metadata": {},
   "outputs": [
    {
     "data": {
      "text/html": [
       "<span style=white-space:pre-wrap>'Necesitamos de  7  para obtener los resultados'</span>"
      ],
      "text/latex": [
       "'Necesitamos de  7  para obtener los resultados'"
      ],
      "text/markdown": [
       "<span style=white-space:pre-wrap>'Necesitamos de  7  para obtener los resultados'</span>"
      ],
      "text/plain": [
       "[1] \"Necesitamos de  7  para obtener los resultados\""
      ]
     },
     "metadata": {},
     "output_type": "display_data"
    },
    {
     "data": {
      "text/plain": [
       "            predict\n",
       "Species       1\n",
       "  setosa     50\n",
       "  versicolor  0\n",
       "  virginica   0"
      ]
     },
     "metadata": {},
     "output_type": "display_data"
    }
   ],
   "source": [
    "#definimos la matriz \n",
    "X<-as.matrix(iris[,1:4])\n",
    "# definimos el output\n",
    "Y<-ifelse(iris$Species==\"setosa\",1,-1)\n",
    "#seteamos el los coeficinetes iniciales\n",
    "w_init<-c(5.5, 5.5, 5.5, 5.5) \n",
    "# corremos el algoritmo\n",
    "r<-perceptron(X,Y,w_init)\n",
    "#obtenemos los coeficientes\n",
    "wtag<-r$beta\n",
    "#realizamos las predicciones\n",
    "iris$predict<-as.numeric(sign(wtag%*%t(X)))\n",
    "paste(\"Necesitamos de \",r$Iteraciones,\" para obtener los resultados\")\n",
    "#Matriz de confusion\n",
    "iris%>%filter(Species==\"setosa\")%>%select(Species,predict)%>%table()\n"
   ]
  },
  {
   "cell_type": "markdown",
   "metadata": {},
   "source": [
    "Vamos a predecir la virginica"
   ]
  },
  {
   "cell_type": "code",
   "execution_count": 24,
   "metadata": {},
   "outputs": [
    {
     "data": {
      "text/html": [
       "<span style=white-space:pre-wrap>'Necesitamos de  81  iteraciones para obtener los resultados'</span>"
      ],
      "text/latex": [
       "'Necesitamos de  81  iteraciones para obtener los resultados'"
      ],
      "text/markdown": [
       "<span style=white-space:pre-wrap>'Necesitamos de  81  iteraciones para obtener los resultados'</span>"
      ],
      "text/plain": [
       "[1] \"Necesitamos de  81  iteraciones para obtener los resultados\""
      ]
     },
     "metadata": {},
     "output_type": "display_data"
    },
    {
     "data": {
      "text/plain": [
       "            predict\n",
       "Species      -1  1\n",
       "  setosa     50  0\n",
       "  versicolor 10 40\n",
       "  virginica   0 50"
      ]
     },
     "metadata": {},
     "output_type": "display_data"
    }
   ],
   "source": [
    "#definimos la matriz \n",
    "X<-as.matrix(iris[,1:4])\n",
    "# definimos el output\n",
    "Y<-ifelse(iris$Species==\"virginica\",1,-1)\n",
    "#seteamos el los coeficinetes iniciales\n",
    "w_init<-c(5.5, 5.5, 5.5, 5.5) \n",
    "# corremos el algoritmo\n",
    "r<-perceptron(X,Y,w_init)\n",
    "#obtenemos los coeficientes\n",
    "wtag<-r$beta\n",
    "#realizamos las predicciones\n",
    "iris$predict<-as.numeric(sign(wtag%*%t(X)))\n",
    "paste(\"Necesitamos de \",r$Iteraciones,\" iteraciones para obtener los resultados\")\n",
    "#Matriz de confusion\n",
    "iris%>%select(Species,predict)%>%table()\n"
   ]
  },
  {
   "cell_type": "markdown",
   "metadata": {},
   "source": [
    "Vamos a predecir la versicolor"
   ]
  },
  {
   "cell_type": "code",
   "execution_count": 28,
   "metadata": {},
   "outputs": [
    {
     "data": {
      "text/html": [
       "<span style=white-space:pre-wrap>'Necesitamos de  1000  para obtener los resultados'</span>"
      ],
      "text/latex": [
       "'Necesitamos de  1000  para obtener los resultados'"
      ],
      "text/markdown": [
       "<span style=white-space:pre-wrap>'Necesitamos de  1000  para obtener los resultados'</span>"
      ],
      "text/plain": [
       "[1] \"Necesitamos de  1000  para obtener los resultados\""
      ]
     },
     "metadata": {},
     "output_type": "display_data"
    },
    {
     "data": {
      "text/plain": [
       "            predict\n",
       "Species      -1\n",
       "  setosa     50\n",
       "  versicolor 50\n",
       "  virginica  50"
      ]
     },
     "metadata": {},
     "output_type": "display_data"
    }
   ],
   "source": [
    "#definimos la matriz \n",
    "X<-as.matrix(iris[,1:4])\n",
    "# definimos el output\n",
    "Y<-ifelse(iris$Species==\"versicolor\",1,-1)\n",
    "#seteamos el los coeficinetes iniciales\n",
    "w_init<-c(0.5, 0.5, 0.5, 0.5) \n",
    "# corremos el algoritmo\n",
    "r<-perceptron(X,Y,w_init)\n",
    "#obtenemos los coeficientes\n",
    "wtag<-r$beta\n",
    "#realizamos las predicciones\n",
    "iris$predict<-as.numeric(sign(wtag%*%t(X)))\n",
    "paste(\"Necesitamos de \",r$Iteraciones,\" para obtener los resultados\")\n",
    "#Matriz de confusion\n",
    "iris%>%select(Species,predict)%>%table()"
   ]
  },
  {
   "cell_type": "markdown",
   "metadata": {},
   "source": [
    "Se puede ver que la virginica no es linealmente separable de las otras categorias."
   ]
  }
 ],
 "metadata": {
  "kernelspec": {
   "display_name": "R",
   "language": "R",
   "name": "ir"
  },
  "language_info": {
   "codemirror_mode": "r",
   "file_extension": ".r",
   "mimetype": "text/x-r-source",
   "name": "R",
   "pygments_lexer": "r",
   "version": "3.4.3"
  }
 },
 "nbformat": 4,
 "nbformat_minor": 2
}
